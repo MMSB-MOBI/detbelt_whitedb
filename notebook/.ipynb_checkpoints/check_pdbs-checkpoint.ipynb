{
 "cells": [
  {
   "cell_type": "markdown",
   "metadata": {},
   "source": [
    "Check in OPM pdbs if we have two plans to represent membrane cylinder. \n",
    "Look at DUM atoms, if there is two z coordinates or not. "
   ]
  },
  {
   "cell_type": "code",
   "execution_count": 13,
   "metadata": {},
   "outputs": [],
   "source": [
    "import glob, json"
   ]
  },
  {
   "cell_type": "code",
   "execution_count": 2,
   "metadata": {},
   "outputs": [],
   "source": [
    "pdb_dir = \"/mnt/arwen-dev/data/databases/mobi/detbelt/proteins/opmPDB_20210114-102025\""
   ]
  },
  {
   "cell_type": "code",
   "execution_count": 3,
   "metadata": {},
   "outputs": [],
   "source": [
    "import pyproteinsExt.structure.coordinates as PDB\n",
    "%load_ext autoreload\n",
    "%autoreload 2"
   ]
  },
  {
   "cell_type": "code",
   "execution_count": 4,
   "metadata": {},
   "outputs": [],
   "source": [
    "def createZDic(pdbObj):\n",
    "    # { DUM : {z_coord : number of atoms}, others : z_list}\n",
    "    z_dic = {\"DUM\" : {}, \"others\": []}\n",
    "    for atom in pdbObj.atomRecord:\n",
    "        if atom.resName == \"DUM\":\n",
    "            if atom.z not in z_dic[\"DUM\"]:\n",
    "                z_dic[\"DUM\"][atom.z] = 1\n",
    "            else:\n",
    "                z_dic[\"DUM\"][atom.z] += 1\n",
    "        else:\n",
    "            z_dic[\"others\"].append(atom.z)\n",
    "    return z_dic"
   ]
  },
  {
   "cell_type": "code",
   "execution_count": 5,
   "metadata": {},
   "outputs": [],
   "source": [
    "def isProtIntoMembrane(up, down, atoms_z):\n",
    "    if min(atoms_z) < down and max(atoms_z) > up:\n",
    "        return True\n",
    "    return False"
   ]
  },
  {
   "cell_type": "code",
   "execution_count": 6,
   "metadata": {},
   "outputs": [],
   "source": [
    "parser = PDB.Parser()"
   ]
  },
  {
   "cell_type": "code",
   "execution_count": 17,
   "metadata": {},
   "outputs": [
    {
     "name": "stdout",
     "output_type": "stream",
     "text": [
      "1A0T\n"
     ]
    }
   ],
   "source": [
    "i = 0\n",
    "one_membrane = []\n",
    "two_membrane = []\n",
    "two_membrane_incorrect = [] # 2 z coordinates but not 0 origin\n",
    "parsing_error = []\n",
    "number_dum_error = []\n",
    "others = []\n",
    "ectopic_prot = []\n",
    "validated_prot = []\n",
    "for pdb in glob.glob(pdb_dir + \"/*.pdb\"): \n",
    "    i+=1\n",
    "    pdb_file = pdb.split(\"/\")[-1]\n",
    "    pdb_code = pdb_file.split(\".\")[0].upper()\n",
    "    try:\n",
    "        pdbObj = parser.load(file = pdb, heteroatoms = True)\n",
    "    except:\n",
    "        parsing_error.append((pdb_code,pdb_file))\n",
    "        continue\n",
    "        \n",
    "    z_dic = createZDic(pdbObj)\n",
    "    dum_dic = z_dic[\"DUM\"]\n",
    "    other_atoms = z_dic[\"others\"]\n",
    "    if len(dum_dic) == 1: #only one part of membrane\n",
    "        one_membrane.append(pdb_file)\n",
    "        #check membrane with artificial second disk\n",
    "        z = list(dum_dic.keys())[0]\n",
    "        coords = [z,-z]\n",
    "        if isProtIntoMembrane(max(coords), min(coords), other_atoms):\n",
    "            validated_prot.append(pdb_file)\n",
    "        else:\n",
    "            ectopic_prot.append(pdb_file)\n",
    "    elif len(dum_dic) == 2:\n",
    "        two_membrane.append(pdb_file)\n",
    "        coords = list(dum_dic.keys())\n",
    "        if abs(coords[0]) == abs(coords[1]): \n",
    "            if dum_dic[coords[0]] != dum_dic[coords[1]]: #not the same number of atoms in 2 disk\n",
    "                number_dum_error.append(pdb_file)\n",
    "            else:\n",
    "                if isProtIntoMembrane(max(coords), min(coords), other_atoms):\n",
    "                    validated_prot.append(pdb_file)\n",
    "                else:\n",
    "                    ectopic_prot.append(pdb_file)\n",
    "        else: #  2 z coordinates but not 0 origin\n",
    "            two_membrane_incorrect.append(pdb_file)\n",
    "    else:\n",
    "        others.append(pdb_file)\n",
    "    \n",
    "    if i % 100 == 0:\n",
    "        print(i)"
   ]
  },
  {
   "cell_type": "code",
   "execution_count": 8,
   "metadata": {
    "scrolled": true
   },
   "outputs": [
    {
     "name": "stdout",
     "output_type": "stream",
     "text": [
      "1941 total prot\n",
      "10 parsing error\n",
      "49 1 disk\n",
      "1881 2 disks\n",
      "1 other number of disk\n",
      "1822 valid\n",
      "108 ectopic\n",
      "0 different number of DUM for the 2 disks\n",
      "0 inconsistency in z coords for the 2 disks\n"
     ]
    }
   ],
   "source": [
    "print(len(glob.glob(pdb_dir + \"/*.pdb\")), \"total prot\")\n",
    "print(len(parsing_error), \"parsing error\")\n",
    "print(len(one_membrane), \"1 disk\")\n",
    "print(len(two_membrane), \"2 disks\")\n",
    "print(len(others), \"other number of disk\")\n",
    "print(len(validated_prot), \"valid\")\n",
    "print(len(ectopic_prot), \"ectopic\")\n",
    "print(len(number_dum_error), \"different number of DUM for the 2 disks\")\n",
    "print(len(two_membrane_incorrect), \"inconsistency in z coords for the 2 disks\")"
   ]
  },
  {
   "cell_type": "code",
   "execution_count": 11,
   "metadata": {},
   "outputs": [],
   "source": [
    "with open(\"ectopic_prot_210121.txt\", \"w\") as o:\n",
    "    o.write(\"\\n\".join(ectopic_prot))\n",
    "with open(\"validated_prot_210121.txt\", \"w\") as o:\n",
    "    o.write(\"\\n\".join(validated_prot))\n",
    "with open(\"parsing_error_prot_210121.txt\", \"w\") as o:\n",
    "    o.write(\"\\n\".join(parsing_error))"
   ]
  },
  {
   "cell_type": "markdown",
   "metadata": {},
   "source": [
    "## Filter database by creating new json"
   ]
  },
  {
   "cell_type": "code",
   "execution_count": 12,
   "metadata": {},
   "outputs": [],
   "source": [
    "current_json = \"/mnt/arwen-dev/data/databases/mobi/detbelt/proteins/whiteDB_20210114-102025.json\"\n",
    "new_json = \"/mnt/arwen-dev/data/databases/mobi/detbelt/proteins/whiteDB_20210114-102025_filter.json\""
   ]
  },
  {
   "cell_type": "code",
   "execution_count": 15,
   "metadata": {},
   "outputs": [
    {
     "name": "stdout",
     "output_type": "stream",
     "text": [
      "{'pdbCode': '1PTH', 'name': 'Ram Prostaglandin H2 synthase-1 (COX-1)', 'species': 'Ovis aries', 'taxonomicDomain': 'Eukaryota', 'expressedInSpecies': '', 'resolution': '3.4', 'description': 'In complex with bromoaspirin.', 'bibliography': {'pubMedId': '7552725', 'authors': 'Loll PJ, Picot D, &amp; Garavito RM', 'year': '1995', 'title': 'The structural basis of aspirin activity inferred from the crystal structure of inactivated prostaglandin H2 synthase.', 'journal': 'Nat Struct Biol', 'volume': '2', 'issue': '', 'pages': '637-643', 'doi': '', 'notes': ''}, 'secondaryBibliographies': '', 'relatedPdbEntries': '', 'group': 'MONOTOPIC MEMBRANE PROTEINS', 'subgroup': 'Cyclooxygenases', 'representativeOf': 'Ram Prostaglandin H2 synthase-1 (cyclooxygenase-1 or COX-1)'}\n"
     ]
    }
   ],
   "source": [
    "current = json.load(open(current_json))\n",
    "for c in current:\n",
    "    print(c)\n",
    "    break"
   ]
  },
  {
   "cell_type": "code",
   "execution_count": null,
   "metadata": {},
   "outputs": [],
   "source": []
  }
 ],
 "metadata": {
  "kernelspec": {
   "display_name": "Python 3",
   "language": "python",
   "name": "python3"
  },
  "language_info": {
   "codemirror_mode": {
    "name": "ipython",
    "version": 3
   },
   "file_extension": ".py",
   "mimetype": "text/x-python",
   "name": "python",
   "nbconvert_exporter": "python",
   "pygments_lexer": "ipython3",
   "version": "3.9.1"
  }
 },
 "nbformat": 4,
 "nbformat_minor": 4
}
