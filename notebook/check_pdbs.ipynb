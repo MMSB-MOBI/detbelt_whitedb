{
 "cells": [
  {
   "cell_type": "markdown",
   "metadata": {},
   "source": [
    "Check in OPM pdbs if we have two plans to represent membrane cylinder. \n",
    "Look at DUM atoms, if there is two z coordinates or not. "
   ]
  },
  {
   "cell_type": "code",
   "execution_count": 13,
   "metadata": {},
   "outputs": [],
   "source": [
    "import glob, json"
   ]
  },
  {
   "cell_type": "markdown",
   "metadata": {},
   "source": [
    "### Filter database\n",
    "Get ectopic proteins, and proteins that can be parsed"
   ]
  },
  {
   "cell_type": "code",
   "execution_count": 2,
   "metadata": {},
   "outputs": [],
   "source": [
    "pdb_dir = \"/mnt/arwen-dev/data/databases/mobi/detbelt/proteins/opmPDB_20210114-102025\""
   ]
  },
  {
   "cell_type": "code",
   "execution_count": 3,
   "metadata": {},
   "outputs": [],
   "source": [
    "import pyproteinsExt.structure.coordinates as PDB\n",
    "%load_ext autoreload\n",
    "%autoreload 2"
   ]
  },
  {
   "cell_type": "code",
   "execution_count": 4,
   "metadata": {},
   "outputs": [],
   "source": [
    "def createZDic(pdbObj):\n",
    "    # { DUM : {z_coord : number of atoms}, others : z_list}\n",
    "    z_dic = {\"DUM\" : {}, \"others\": []}\n",
    "    for atom in pdbObj.atomRecord:\n",
    "        if atom.resName == \"DUM\":\n",
    "            if atom.z not in z_dic[\"DUM\"]:\n",
    "                z_dic[\"DUM\"][atom.z] = 1\n",
    "            else:\n",
    "                z_dic[\"DUM\"][atom.z] += 1\n",
    "        else:\n",
    "            z_dic[\"others\"].append(atom.z)\n",
    "    return z_dic"
   ]
  },
  {
   "cell_type": "code",
   "execution_count": 5,
   "metadata": {},
   "outputs": [],
   "source": [
    "def isProtIntoMembrane(up, down, atoms_z):\n",
    "    if min(atoms_z) < down and max(atoms_z) > up:\n",
    "        return True\n",
    "    return False"
   ]
  },
  {
   "cell_type": "code",
   "execution_count": 6,
   "metadata": {},
   "outputs": [],
   "source": [
    "parser = PDB.Parser()"
   ]
  },
  {
   "cell_type": "code",
   "execution_count": 18,
   "metadata": {},
   "outputs": [
    {
     "name": "stdout",
     "output_type": "stream",
     "text": [
      "100\n",
      "200\n",
      "300\n",
      "400\n",
      "500\n",
      "600\n",
      "700\n",
      "800\n",
      "900\n",
      "1000\n",
      "1100\n",
      "1200\n",
      "1300\n",
      "1400\n",
      "1500\n",
      "1600\n",
      "1700\n",
      "1800\n",
      "1900\n"
     ]
    }
   ],
   "source": [
    "i = 0\n",
    "one_membrane = []\n",
    "two_membrane = []\n",
    "two_membrane_incorrect = [] # 2 z coordinates but not 0 origin\n",
    "parsing_error = []\n",
    "number_dum_error = []\n",
    "others = []\n",
    "ectopic_prot = []\n",
    "validated_prot = []\n",
    "for pdb in glob.glob(pdb_dir + \"/*.pdb\"): \n",
    "    i+=1\n",
    "    pdb_file = pdb.split(\"/\")[-1]\n",
    "    pdb_code = pdb_file.split(\".\")[0].upper()\n",
    "    try:\n",
    "        pdbObj = parser.load(file = pdb, heteroatoms = True)\n",
    "    except:\n",
    "        parsing_error.append((pdb_code,pdb_file))\n",
    "        continue\n",
    "        \n",
    "    z_dic = createZDic(pdbObj)\n",
    "    dum_dic = z_dic[\"DUM\"]\n",
    "    other_atoms = z_dic[\"others\"]\n",
    "    if len(dum_dic) == 1: #only one part of membrane\n",
    "        one_membrane.append((pdb_code,pdb_file))\n",
    "        #check membrane with artificial second disk\n",
    "        z = list(dum_dic.keys())[0]\n",
    "        coords = [z,-z]\n",
    "        if isProtIntoMembrane(max(coords), min(coords), other_atoms):\n",
    "            validated_prot.append((pdb_code,pdb_file))\n",
    "        else:\n",
    "            ectopic_prot.append((pdb_code,pdb_file))\n",
    "    elif len(dum_dic) == 2:\n",
    "        two_membrane.append((pdb_code,pdb_file))\n",
    "        coords = list(dum_dic.keys())\n",
    "        if abs(coords[0]) == abs(coords[1]): \n",
    "            if dum_dic[coords[0]] != dum_dic[coords[1]]: #not the same number of atoms in 2 disk\n",
    "                number_dum_error.append((pdb_code,pdb_file))\n",
    "            else:\n",
    "                if isProtIntoMembrane(max(coords), min(coords), other_atoms):\n",
    "                    validated_prot.append((pdb_code,pdb_file))\n",
    "                else:\n",
    "                    ectopic_prot.append((pdb_code,pdb_file))\n",
    "        else: #  2 z coordinates but not 0 origin\n",
    "            two_membrane_incorrect.append((pdb_code,pdb_file))\n",
    "    else:\n",
    "        others.append((pdb_code,pdb_file))\n",
    "    \n",
    "    if i % 100 == 0:\n",
    "        print(i)"
   ]
  },
  {
   "cell_type": "code",
   "execution_count": 19,
   "metadata": {
    "scrolled": true
   },
   "outputs": [
    {
     "name": "stdout",
     "output_type": "stream",
     "text": [
      "1941 total prot\n",
      "10 parsing error\n",
      "49 1 disk\n",
      "1881 2 disks\n",
      "1 other number of disk\n",
      "1822 valid\n",
      "108 ectopic\n",
      "0 different number of DUM for the 2 disks\n",
      "0 inconsistency in z coords for the 2 disks\n"
     ]
    }
   ],
   "source": [
    "print(len(glob.glob(pdb_dir + \"/*.pdb\")), \"total prot\")\n",
    "print(len(parsing_error), \"parsing error\")\n",
    "print(len(one_membrane), \"1 disk\")\n",
    "print(len(two_membrane), \"2 disks\")\n",
    "print(len(others), \"other number of disk\")\n",
    "print(len(validated_prot), \"valid\")\n",
    "print(len(ectopic_prot), \"ectopic\")\n",
    "print(len(number_dum_error), \"different number of DUM for the 2 disks\")\n",
    "print(len(two_membrane_incorrect), \"inconsistency in z coords for the 2 disks\")"
   ]
  },
  {
   "cell_type": "code",
   "execution_count": 20,
   "metadata": {},
   "outputs": [],
   "source": [
    "with open(\"ectopic_prot_210121.txt\", \"w\") as o:\n",
    "    o.write(\"\\n\".join([p[1] for p in ectopic_prot]))\n",
    "with open(\"validated_prot_210121.txt\", \"w\") as o:\n",
    "    o.write(\"\\n\".join([p[1] for p in validated_prot]))\n",
    "with open(\"parsing_error_prot_210121.txt\", \"w\") as o:\n",
    "    o.write(\"\\n\".join([p[1] for p in parsing_error]))"
   ]
  },
  {
   "cell_type": "markdown",
   "metadata": {},
   "source": [
    "## Filter database by creating new json"
   ]
  },
  {
   "cell_type": "code",
   "execution_count": 29,
   "metadata": {},
   "outputs": [],
   "source": [
    "current_json = \"/mnt/arwen-dev/data/databases/mobi/detbelt/proteins/whiteDB_20210114-102025.json\"\n",
    "new_json = \"/mnt/arwen-dev/data/databases/mobi/detbelt/proteins/whiteDB_20210114-102025_filter.json\""
   ]
  },
  {
   "cell_type": "code",
   "execution_count": 27,
   "metadata": {},
   "outputs": [
    {
     "name": "stdout",
     "output_type": "stream",
     "text": [
      "1822\n"
     ]
    }
   ],
   "source": [
    "current = json.load(open(current_json))\n",
    "new_json_obj = []\n",
    "validated_codes = [p[0] for p in validated_prot]\n",
    "for c in current:\n",
    "    if c[\"pdbCode\"] in validated_codes:\n",
    "        new_json_obj.append(c)\n",
    "print(len(new_json_obj))"
   ]
  },
  {
   "cell_type": "code",
   "execution_count": 31,
   "metadata": {},
   "outputs": [],
   "source": [
    "json.dump(new_json_obj, open(new_json, \"w\"))"
   ]
  },
  {
   "cell_type": "markdown",
   "metadata": {},
   "source": [
    "## Move pdbs in proper directory"
   ]
  },
  {
   "cell_type": "markdown",
   "metadata": {},
   "source": [
    "```bash\n",
    "DIR=/mnt/arwen-dev/data/databases/mobi/detbelt/proteins/opmPDB_20210114-102025\n",
    "mkdir $DIR/validated\n",
    "mkdir $DIR/ectopic\n",
    "mkdir $DIR/parsing_error\n",
    "\n",
    "for pdb in $(cat ectopic_prot_210121.txt); do \n",
    "    mv $DIR/$pdb $DIR/ectopic/\n",
    "done\n",
    "\n",
    "for pdb in $(cat validated_prot_210121.txt); do \n",
    "    mv $DIR/$pdb $DIR/validated/\n",
    "done\n",
    "\n",
    "for pdb in $(cat parsing_error_prot_210121.txt); do \n",
    "    mv $DIR/$pdb $DIR/parsing_error/\n",
    "done\n",
    "```"
   ]
  },
  {
   "cell_type": "code",
   "execution_count": null,
   "metadata": {},
   "outputs": [],
   "source": []
  }
 ],
 "metadata": {
  "kernelspec": {
   "display_name": "Python 3",
   "language": "python",
   "name": "python3"
  },
  "language_info": {
   "codemirror_mode": {
    "name": "ipython",
    "version": 3
   },
   "file_extension": ".py",
   "mimetype": "text/x-python",
   "name": "python",
   "nbconvert_exporter": "python",
   "pygments_lexer": "ipython3",
   "version": "3.7.3"
  }
 },
 "nbformat": 4,
 "nbformat_minor": 4
}
